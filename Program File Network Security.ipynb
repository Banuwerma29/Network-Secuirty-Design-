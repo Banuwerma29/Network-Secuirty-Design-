{
 "cells": [
  {
   "cell_type": "code",
   "execution_count": null,
   "id": "bd45d48f",
   "metadata": {},
   "outputs": [
    {
     "name": "stdout",
     "output_type": "stream",
     "text": [
      "Welcome to the Network Security Design Proposal Generator!\n",
      "Please provide the following information to generate the proposal:\n",
      "\n"
     ]
    }
   ],
   "source": [
    "def generate_security_design():\n",
    "    print(\"Welcome to the Network Security Design Proposal Generator!\")\n",
    "    print(\"Please provide the following information to generate the proposal:\\n\")\n",
    "\n",
    "    backup_server_name = input(\"Enter the name of the backup server: \")\n",
    "    server_location = input(\"Enter the physical location of the server (e.g., on-premises, cloud): \")\n",
    "    data_sensitivity = input(\"Enter the sensitivity level of the data stored on the server: \")\n",
    "    access_controls = input(\"Specify the access controls required for the server (e.g., role-based access control): \")\n",
    "    encryption_method = input(\"Specify the encryption method for data transmission and storage: \")\n",
    "\n",
    "    # Generate proposal based on provided information\n",
    "    proposal = f\"\"\"\n",
    "    Network Security Design Proposal for Backup Server: {backup_server_name}\n",
    "\n",
    "    Server Location: {server_location}\n",
    "    Data Sensitivity: {data_sensitivity}\n",
    "    Access Controls: {access_controls}\n",
    "    Encryption Method: {encryption_method}\n",
    "\n",
    "    Proposal Summary:\n",
    "    - Store the backup server in a physically secure location with restricted access.\n",
    "    - Implement {access_controls} to manage user access to sensitive data.\n",
    "    - Utilize {encryption_method} for securing data transmission and storage.\n",
    "    \n",
    "    Additional Details:\n",
    "    - Regularly backup data to prevent data loss in case of server failure or cyber attacks.\n",
    "    - Implement intrusion detection systems and monitoring tools to detect and respond to security threats.\n",
    "    - Conduct regular security audits and vulnerability assessments to identify and mitigate risks.\n",
    "\n",
    "    For further inquiries or customization, please contact [Your Contact Information].\n",
    "    \"\"\"\n",
    "\n",
    "    print(\"\\nProposal Generated Successfully!\\n\")\n",
    "    print(proposal)\n",
    "\n",
    "\n",
    "if __name__ == \"__main__\":\n",
    "    generate_security_design()"
   ]
  },
  {
   "cell_type": "code",
   "execution_count": null,
   "id": "5ba925d6",
   "metadata": {},
   "outputs": [],
   "source": []
  }
 ],
 "metadata": {
  "kernelspec": {
   "display_name": "Python 3 (ipykernel)",
   "language": "python",
   "name": "python3"
  },
  "language_info": {
   "codemirror_mode": {
    "name": "ipython",
    "version": 3
   },
   "file_extension": ".py",
   "mimetype": "text/x-python",
   "name": "python",
   "nbconvert_exporter": "python",
   "pygments_lexer": "ipython3",
   "version": "3.11.4"
  }
 },
 "nbformat": 4,
 "nbformat_minor": 5
}
